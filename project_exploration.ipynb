{
 "cells": [
  {
   "cell_type": "code",
   "execution_count": null,
   "id": "668b936d-c9ff-4a3e-bae2-295655f4cbc1",
   "metadata": {},
   "outputs": [],
   "source": [
    "# This is my project exploration notebook"
   ]
  },
  {
   "cell_type": "code",
   "execution_count": null,
   "id": "9f7601cb-6782-464e-808a-8f562b00c1bb",
   "metadata": {},
   "outputs": [],
   "source": [
    "# This cell will fetch the data from the external API"
   ]
  }
 ],
 "metadata": {
  "kernelspec": {
   "display_name": "Python 3 (ipykernel)",
   "language": "python",
   "name": "python3"
  },
  "language_info": {
   "codemirror_mode": {
    "name": "ipython",
    "version": 3
   },
   "file_extension": ".py",
   "mimetype": "text/x-python",
   "name": "python",
   "nbconvert_exporter": "python",
   "pygments_lexer": "ipython3",
   "version": "3.12.4"
  }
 },
 "nbformat": 4,
 "nbformat_minor": 5
}
